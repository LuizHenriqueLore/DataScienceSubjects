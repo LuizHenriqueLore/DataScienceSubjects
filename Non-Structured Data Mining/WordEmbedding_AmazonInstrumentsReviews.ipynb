{
  "nbformat": 4,
  "nbformat_minor": 0,
  "metadata": {
    "colab": {
      "name": "WordEmbedding-AmazonInstrumentsReviews.ipynb",
      "provenance": []
    },
    "kernelspec": {
      "name": "python3",
      "display_name": "Python 3"
    },
    "language_info": {
      "name": "python"
    }
  },
  "cells": [
    {
      "cell_type": "code",
      "metadata": {
        "colab": {
          "base_uri": "https://localhost:8080/"
        },
        "id": "LLpJ8NWdV3Is",
        "outputId": "577c09f3-c74e-4ecb-c455-7346200d0120"
      },
      "source": [
        "# https://www.kaggle.com/eswarchandt/amazon-music-reviews\n",
        "!unzip amazon_musical_instruments_reviews.zip"
      ],
      "execution_count": 29,
      "outputs": [
        {
          "output_type": "stream",
          "name": "stdout",
          "text": [
            "Archive:  amazon_musical_instruments_reviews.zip\n",
            "replace Musical_Instruments_5.json? [y]es, [n]o, [A]ll, [N]one, [r]ename: "
          ]
        }
      ]
    },
    {
      "cell_type": "code",
      "metadata": {
        "colab": {
          "base_uri": "https://localhost:8080/",
          "height": 521
        },
        "id": "Z5fy59cFWDCc",
        "outputId": "31b142dc-c963-452d-bdac-467b130ba1e6"
      },
      "source": [
        "import pandas as pd\n",
        "dataset = pd.read_csv('Musical_instruments_reviews.csv',encoding='iso8859')\n",
        "dataset"
      ],
      "execution_count": 30,
      "outputs": [
        {
          "output_type": "execute_result",
          "data": {
            "text/html": [
              "<div>\n",
              "<style scoped>\n",
              "    .dataframe tbody tr th:only-of-type {\n",
              "        vertical-align: middle;\n",
              "    }\n",
              "\n",
              "    .dataframe tbody tr th {\n",
              "        vertical-align: top;\n",
              "    }\n",
              "\n",
              "    .dataframe thead th {\n",
              "        text-align: right;\n",
              "    }\n",
              "</style>\n",
              "<table border=\"1\" class=\"dataframe\">\n",
              "  <thead>\n",
              "    <tr style=\"text-align: right;\">\n",
              "      <th></th>\n",
              "      <th>reviewerID</th>\n",
              "      <th>asin</th>\n",
              "      <th>reviewerName</th>\n",
              "      <th>helpful</th>\n",
              "      <th>reviewText</th>\n",
              "      <th>overall</th>\n",
              "      <th>summary</th>\n",
              "      <th>unixReviewTime</th>\n",
              "      <th>reviewTime</th>\n",
              "    </tr>\n",
              "  </thead>\n",
              "  <tbody>\n",
              "    <tr>\n",
              "      <th>0</th>\n",
              "      <td>A2IBPI20UZIR0U</td>\n",
              "      <td>1384719342</td>\n",
              "      <td>cassandra tu \"Yeah, well, that's just like, u...</td>\n",
              "      <td>[0, 0]</td>\n",
              "      <td>Not much to write about here, but it does exac...</td>\n",
              "      <td>5.0</td>\n",
              "      <td>good</td>\n",
              "      <td>1393545600</td>\n",
              "      <td>02 28, 2014</td>\n",
              "    </tr>\n",
              "    <tr>\n",
              "      <th>1</th>\n",
              "      <td>A14VAT5EAX3D9S</td>\n",
              "      <td>1384719342</td>\n",
              "      <td>Jake</td>\n",
              "      <td>[13, 14]</td>\n",
              "      <td>The product does exactly as it should and is q...</td>\n",
              "      <td>5.0</td>\n",
              "      <td>Jake</td>\n",
              "      <td>1363392000</td>\n",
              "      <td>03 16, 2013</td>\n",
              "    </tr>\n",
              "    <tr>\n",
              "      <th>2</th>\n",
              "      <td>A195EZSQDW3E21</td>\n",
              "      <td>1384719342</td>\n",
              "      <td>Rick Bennette \"Rick Bennette\"</td>\n",
              "      <td>[1, 1]</td>\n",
              "      <td>The primary job of this device is to block the...</td>\n",
              "      <td>5.0</td>\n",
              "      <td>It Does The Job Well</td>\n",
              "      <td>1377648000</td>\n",
              "      <td>08 28, 2013</td>\n",
              "    </tr>\n",
              "    <tr>\n",
              "      <th>3</th>\n",
              "      <td>A2C00NNG1ZQQG2</td>\n",
              "      <td>1384719342</td>\n",
              "      <td>RustyBill \"Sunday Rocker\"</td>\n",
              "      <td>[0, 0]</td>\n",
              "      <td>Nice windscreen protects my MXL mic and preven...</td>\n",
              "      <td>5.0</td>\n",
              "      <td>GOOD WINDSCREEN FOR THE MONEY</td>\n",
              "      <td>1392336000</td>\n",
              "      <td>02 14, 2014</td>\n",
              "    </tr>\n",
              "    <tr>\n",
              "      <th>4</th>\n",
              "      <td>A94QU4C90B1AX</td>\n",
              "      <td>1384719342</td>\n",
              "      <td>SEAN MASLANKA</td>\n",
              "      <td>[0, 0]</td>\n",
              "      <td>This pop filter is great. It looks and perform...</td>\n",
              "      <td>5.0</td>\n",
              "      <td>No more pops when I record my vocals.</td>\n",
              "      <td>1392940800</td>\n",
              "      <td>02 21, 2014</td>\n",
              "    </tr>\n",
              "    <tr>\n",
              "      <th>...</th>\n",
              "      <td>...</td>\n",
              "      <td>...</td>\n",
              "      <td>...</td>\n",
              "      <td>...</td>\n",
              "      <td>...</td>\n",
              "      <td>...</td>\n",
              "      <td>...</td>\n",
              "      <td>...</td>\n",
              "      <td>...</td>\n",
              "    </tr>\n",
              "    <tr>\n",
              "      <th>10256</th>\n",
              "      <td>A14B2YH83ZXMPP</td>\n",
              "      <td>B00JBIVXGC</td>\n",
              "      <td>Lonnie M. Adams</td>\n",
              "      <td>[0, 0]</td>\n",
              "      <td>Great, just as expected.  Thank to all.</td>\n",
              "      <td>5.0</td>\n",
              "      <td>Five Stars</td>\n",
              "      <td>1405814400</td>\n",
              "      <td>07 20, 2014</td>\n",
              "    </tr>\n",
              "    <tr>\n",
              "      <th>10257</th>\n",
              "      <td>A1RPTVW5VEOSI</td>\n",
              "      <td>B00JBIVXGC</td>\n",
              "      <td>Michael J. Edelman</td>\n",
              "      <td>[0, 0]</td>\n",
              "      <td>I've been thinking about trying the Nanoweb st...</td>\n",
              "      <td>5.0</td>\n",
              "      <td>Long life, and for some players, a good econom...</td>\n",
              "      <td>1404259200</td>\n",
              "      <td>07 2, 2014</td>\n",
              "    </tr>\n",
              "    <tr>\n",
              "      <th>10258</th>\n",
              "      <td>AWCJ12KBO5VII</td>\n",
              "      <td>B00JBIVXGC</td>\n",
              "      <td>Michael L. Knapp</td>\n",
              "      <td>[0, 0]</td>\n",
              "      <td>I have tried coated strings in the past ( incl...</td>\n",
              "      <td>4.0</td>\n",
              "      <td>Good for coated.</td>\n",
              "      <td>1405987200</td>\n",
              "      <td>07 22, 2014</td>\n",
              "    </tr>\n",
              "    <tr>\n",
              "      <th>10259</th>\n",
              "      <td>A2Z7S8B5U4PAKJ</td>\n",
              "      <td>B00JBIVXGC</td>\n",
              "      <td>Rick Langdon \"Scriptor\"</td>\n",
              "      <td>[0, 0]</td>\n",
              "      <td>Well, MADE by Elixir and DEVELOPED with Taylor...</td>\n",
              "      <td>4.0</td>\n",
              "      <td>Taylor Made</td>\n",
              "      <td>1404172800</td>\n",
              "      <td>07 1, 2014</td>\n",
              "    </tr>\n",
              "    <tr>\n",
              "      <th>10260</th>\n",
              "      <td>A2WA8TDCTGUADI</td>\n",
              "      <td>B00JBIVXGC</td>\n",
              "      <td>TheTerrorBeyond</td>\n",
              "      <td>[0, 0]</td>\n",
              "      <td>These strings are really quite good, but I wou...</td>\n",
              "      <td>4.0</td>\n",
              "      <td>These strings are really quite good, but I wou...</td>\n",
              "      <td>1405468800</td>\n",
              "      <td>07 16, 2014</td>\n",
              "    </tr>\n",
              "  </tbody>\n",
              "</table>\n",
              "<p>10261 rows × 9 columns</p>\n",
              "</div>"
            ],
            "text/plain": [
              "           reviewerID        asin  ... unixReviewTime   reviewTime\n",
              "0      A2IBPI20UZIR0U  1384719342  ...     1393545600  02 28, 2014\n",
              "1      A14VAT5EAX3D9S  1384719342  ...     1363392000  03 16, 2013\n",
              "2      A195EZSQDW3E21  1384719342  ...     1377648000  08 28, 2013\n",
              "3      A2C00NNG1ZQQG2  1384719342  ...     1392336000  02 14, 2014\n",
              "4       A94QU4C90B1AX  1384719342  ...     1392940800  02 21, 2014\n",
              "...               ...         ...  ...            ...          ...\n",
              "10256  A14B2YH83ZXMPP  B00JBIVXGC  ...     1405814400  07 20, 2014\n",
              "10257   A1RPTVW5VEOSI  B00JBIVXGC  ...     1404259200   07 2, 2014\n",
              "10258   AWCJ12KBO5VII  B00JBIVXGC  ...     1405987200  07 22, 2014\n",
              "10259  A2Z7S8B5U4PAKJ  B00JBIVXGC  ...     1404172800   07 1, 2014\n",
              "10260  A2WA8TDCTGUADI  B00JBIVXGC  ...     1405468800  07 16, 2014\n",
              "\n",
              "[10261 rows x 9 columns]"
            ]
          },
          "metadata": {},
          "execution_count": 30
        }
      ]
    },
    {
      "cell_type": "code",
      "metadata": {
        "id": "ChTa5NwCWUD5"
      },
      "source": [
        "import gensim \n",
        "\n",
        "# percorre cada linha do dataset, preprocessa e armazena na lista documents\n",
        "\n",
        "documents = []\n",
        "for index,row in dataset.iterrows(): # para cada linha do dataset\n",
        "  if len(str(row['reviewText'])) >= 30: # se a linha possui mais do que 30 caracteres\n",
        "    tokens = gensim.utils.simple_preprocess (row['reviewText']) # preprocessamento simples de cada texto\n",
        "    documents.append(tokens)"
      ],
      "execution_count": 31,
      "outputs": []
    },
    {
      "cell_type": "code",
      "metadata": {
        "colab": {
          "base_uri": "https://localhost:8080/"
        },
        "id": "ZXvoL_AgXgHb",
        "outputId": "f6ec6527-8bf9-460f-e898-b232ce74b231"
      },
      "source": [
        "import numpy as np\n",
        "len(documents)"
      ],
      "execution_count": 32,
      "outputs": [
        {
          "output_type": "execute_result",
          "data": {
            "text/plain": [
              "10221"
            ]
          },
          "metadata": {},
          "execution_count": 32
        }
      ]
    },
    {
      "cell_type": "code",
      "metadata": {
        "id": "ILq3h0UVXh85"
      },
      "source": [
        "# treinando o Word2Vec a partir dos documents\n",
        "model = gensim.models.Word2Vec(\n",
        "        documents, # lista com documents\n",
        "        size=300, # tamanho da dimensao de cada palavra\n",
        "        window=2, # tamanho da janela de contexto\n",
        "        min_count=1, # numero minimo de ocorrencia de uma palavra no texto\n",
        "        workers=4, # paralelizacao/cpu\n",
        "        iter=10) # numero maximo de iteracoes"
      ],
      "execution_count": 33,
      "outputs": []
    },
    {
      "cell_type": "code",
      "metadata": {
        "colab": {
          "base_uri": "https://localhost:8080/"
        },
        "id": "jhqbiLvfaIgU",
        "outputId": "f0678fcf-3d3e-432b-d690-57b55e477d86"
      },
      "source": [
        "!wget -P /root/input/ -c \"https://s3.amazonaws.com/dl4j-distribution/GoogleNews-vectors-negative300.bin.gz\""
      ],
      "execution_count": 22,
      "outputs": [
        {
          "output_type": "stream",
          "name": "stdout",
          "text": [
            "--2021-09-25 21:01:43--  https://s3.amazonaws.com/dl4j-distribution/GoogleNews-vectors-negative300.bin.gz\n",
            "Resolving s3.amazonaws.com (s3.amazonaws.com)... 52.216.178.229\n",
            "Connecting to s3.amazonaws.com (s3.amazonaws.com)|52.216.178.229|:443... connected.\n",
            "HTTP request sent, awaiting response... 200 OK\n",
            "Length: 1647046227 (1.5G) [application/x-gzip]\n",
            "Saving to: ‘/root/input/GoogleNews-vectors-negative300.bin.gz’\n",
            "\n",
            "GoogleNews-vectors- 100%[===================>]   1.53G  41.6MB/s    in 38s     \n",
            "\n",
            "2021-09-25 21:02:22 (40.9 MB/s) - ‘/root/input/GoogleNews-vectors-negative300.bin.gz’ saved [1647046227/1647046227]\n",
            "\n"
          ]
        }
      ]
    },
    {
      "cell_type": "code",
      "metadata": {
        "colab": {
          "base_uri": "https://localhost:8080/"
        },
        "id": "7FF_WttxaXgk",
        "outputId": "ad89c503-5bc5-4a41-90c0-f0319afd94d6"
      },
      "source": [
        "!pip install gensim\n",
        "from gensim.models import KeyedVectors"
      ],
      "execution_count": 23,
      "outputs": [
        {
          "output_type": "stream",
          "name": "stdout",
          "text": [
            "Requirement already satisfied: gensim in /usr/local/lib/python3.7/dist-packages (3.6.0)\n",
            "Requirement already satisfied: smart-open>=1.2.1 in /usr/local/lib/python3.7/dist-packages (from gensim) (5.2.1)\n",
            "Requirement already satisfied: numpy>=1.11.3 in /usr/local/lib/python3.7/dist-packages (from gensim) (1.19.5)\n",
            "Requirement already satisfied: scipy>=0.18.1 in /usr/local/lib/python3.7/dist-packages (from gensim) (1.4.1)\n",
            "Requirement already satisfied: six>=1.5.0 in /usr/local/lib/python3.7/dist-packages (from gensim) (1.15.0)\n"
          ]
        }
      ]
    },
    {
      "cell_type": "code",
      "metadata": {
        "id": "-WAtAAKLaaXE"
      },
      "source": [
        "EMBEDDING_FILE = '/root/input/GoogleNews-vectors-negative300.bin.gz' # from above\n",
        "word2vec = KeyedVectors.load_word2vec_format(EMBEDDING_FILE, binary=True)"
      ],
      "execution_count": 24,
      "outputs": []
    },
    {
      "cell_type": "code",
      "metadata": {
        "colab": {
          "base_uri": "https://localhost:8080/"
        },
        "id": "xzMZ4OJ-Xj1J",
        "outputId": "a9d77640-6f8e-4290-ba29-d54683a0d6f7"
      },
      "source": [
        "# testando o meu modelo..\n",
        "\n",
        "palavra = 'instrument'\n",
        "model.wv.most_similar(palavra, topn=10) # identificando as 10 palavra mais similares (e.g. cosseno)"
      ],
      "execution_count": 36,
      "outputs": [
        {
          "output_type": "execute_result",
          "data": {
            "text/plain": [
              "[('guitar', 0.7911194562911987),\n",
              " ('uke', 0.7059556245803833),\n",
              " ('violin', 0.6316547989845276),\n",
              " ('axe', 0.6208466291427612),\n",
              " ('standerd', 0.6087539196014404),\n",
              " ('lookingfor', 0.6055226922035217),\n",
              " ('pickup', 0.5911166667938232),\n",
              " ('microphone', 0.5904831886291504),\n",
              " ('mandolin', 0.5714806318283081),\n",
              " ('rig', 0.5649174451828003)]"
            ]
          },
          "metadata": {},
          "execution_count": 36
        }
      ]
    },
    {
      "cell_type": "code",
      "metadata": {
        "colab": {
          "base_uri": "https://localhost:8080/"
        },
        "id": "7IzVn1C-bKz1",
        "outputId": "654bea77-88e1-4b50-e7e4-2e5f5e31be21"
      },
      "source": [
        "# testando o modelo pré-treinado..\n",
        "\n",
        "palavra = 'instrument'\n",
        "word2vec.wv.most_similar(palavra, topn=10) # identificando as 10 palavra mais similares (e.g. cosseno)"
      ],
      "execution_count": 37,
      "outputs": [
        {
          "output_type": "stream",
          "name": "stderr",
          "text": [
            "/usr/local/lib/python3.7/dist-packages/ipykernel_launcher.py:4: DeprecationWarning: Call to deprecated `wv` (Attribute will be removed in 4.0.0, use self instead).\n",
            "  after removing the cwd from sys.path.\n"
          ]
        },
        {
          "output_type": "execute_result",
          "data": {
            "text/plain": [
              "[('instruments', 0.8005486726760864),\n",
              " ('woodwind_instrument', 0.5375601649284363),\n",
              " ('stringed_instrument', 0.5302876234054565),\n",
              " ('stringed_instruments', 0.525518536567688),\n",
              " ('organ', 0.5186469554901123),\n",
              " ('#,###,###_#,###,###_Derivative', 0.5186272859573364),\n",
              " ('woodwind_instruments', 0.5175418853759766),\n",
              " ('de_gamba', 0.5117429494857788),\n",
              " ('electric_guitar', 0.5102767944335938),\n",
              " ('guitar_fiddle_banjo', 0.5099603533744812)]"
            ]
          },
          "metadata": {},
          "execution_count": 37
        }
      ]
    },
    {
      "cell_type": "code",
      "metadata": {
        "colab": {
          "base_uri": "https://localhost:8080/"
        },
        "id": "9e8yr2IbcTWb",
        "outputId": "1531d9e7-2eab-4322-9a75-b08a4ad43fe0"
      },
      "source": [
        "# testando o meu modelo..\n",
        "\n",
        "palavra = 'body'\n",
        "model.wv.most_similar(palavra, topn=10) # identificando as 10 palavra mais similares (e.g. cosseno)"
      ],
      "execution_count": 38,
      "outputs": [
        {
          "output_type": "execute_result",
          "data": {
            "text/plain": [
              "[('wood', 0.7623406648635864),\n",
              " ('neck', 0.7598986625671387),\n",
              " ('finish', 0.7461018562316895),\n",
              " ('base', 0.6890367269515991),\n",
              " ('necks', 0.684097170829773),\n",
              " ('headstock', 0.682195782661438),\n",
              " ('scratch', 0.6730479001998901),\n",
              " ('resting', 0.6648775935173035),\n",
              " ('fingerboard', 0.6644300818443298),\n",
              " ('shoulder', 0.663679838180542)]"
            ]
          },
          "metadata": {},
          "execution_count": 38
        }
      ]
    },
    {
      "cell_type": "code",
      "metadata": {
        "colab": {
          "base_uri": "https://localhost:8080/"
        },
        "id": "RFzkzpUscfuQ",
        "outputId": "f9a96395-2a1f-46ec-b75c-966bd0602068"
      },
      "source": [
        "# testando o modelo pré-treinado..\n",
        "\n",
        "palavra = 'body'\n",
        "word2vec.wv.most_similar(palavra, topn=10) # identificando as 10 palavra mais similares (e.g. cosseno)"
      ],
      "execution_count": 39,
      "outputs": [
        {
          "output_type": "stream",
          "name": "stderr",
          "text": [
            "/usr/local/lib/python3.7/dist-packages/ipykernel_launcher.py:4: DeprecationWarning: Call to deprecated `wv` (Attribute will be removed in 4.0.0, use self instead).\n",
            "  after removing the cwd from sys.path.\n"
          ]
        },
        {
          "output_type": "execute_result",
          "data": {
            "text/plain": [
              "[('bodies', 0.6849012970924377),\n",
              " ('Body', 0.6233618855476379),\n",
              " ('corpse', 0.5529567003250122),\n",
              " ('torso', 0.5452913045883179),\n",
              " ('partially_decomposed', 0.4997607469558716),\n",
              " ('decomposing_body', 0.49656596779823303),\n",
              " ('clothing_scented_soaps', 0.4959423542022705),\n",
              " ('vehicle_Kamenobu', 0.4816902279853821),\n",
              " ('shallow_grave_More_>>', 0.4801490008831024),\n",
              " ('dismembered_body', 0.4780474901199341)]"
            ]
          },
          "metadata": {},
          "execution_count": 39
        }
      ]
    },
    {
      "cell_type": "code",
      "metadata": {
        "colab": {
          "base_uri": "https://localhost:8080/"
        },
        "id": "KBnXLoBUdadN",
        "outputId": "6d43e3a6-9430-4c57-bbb9-6c38fd8b8788"
      },
      "source": [
        "# testando o meu modelo..\n",
        "\n",
        "palavra = 'tone'\n",
        "model.wv.most_similar(palavra, topn=10) # identificando as 10 palavra mais similares (e.g. cosseno)"
      ],
      "execution_count": 41,
      "outputs": [
        {
          "output_type": "execute_result",
          "data": {
            "text/plain": [
              "[('sound', 0.7937231063842773),\n",
              " ('tones', 0.7652323246002197),\n",
              " ('sustain', 0.6962069869041443),\n",
              " ('signal', 0.6883716583251953),\n",
              " ('clarity', 0.674706757068634),\n",
              " ('character', 0.6691546440124512),\n",
              " ('sounds', 0.6689679622650146),\n",
              " ('volume', 0.6570836305618286),\n",
              " ('harmonics', 0.6542500257492065),\n",
              " ('distortion', 0.6347266435623169)]"
            ]
          },
          "metadata": {},
          "execution_count": 41
        }
      ]
    },
    {
      "cell_type": "code",
      "metadata": {
        "colab": {
          "base_uri": "https://localhost:8080/"
        },
        "id": "ZGn6h9rWd5sP",
        "outputId": "34933c4f-276f-4c67-ef50-4ffe514a6047"
      },
      "source": [
        "# testando o modelo pré-treinado..\n",
        "\n",
        "palavra = 'tone'\n",
        "word2vec.wv.most_similar(palavra, topn=10) # identificando as 10 palavra mais similares (e.g. cosseno)"
      ],
      "execution_count": 42,
      "outputs": [
        {
          "output_type": "stream",
          "name": "stderr",
          "text": [
            "/usr/local/lib/python3.7/dist-packages/ipykernel_launcher.py:4: DeprecationWarning: Call to deprecated `wv` (Attribute will be removed in 4.0.0, use self instead).\n",
            "  after removing the cwd from sys.path.\n"
          ]
        },
        {
          "output_type": "execute_result",
          "data": {
            "text/plain": [
              "[('tones', 0.5816565752029419),\n",
              " ('mood', 0.5630344152450562),\n",
              " ('demeanor', 0.5408008098602295),\n",
              " ('somber_tone', 0.5264556407928467),\n",
              " ('conciliatory_tone', 0.4943409860134125),\n",
              " ('confrontational_tone', 0.4843616485595703),\n",
              " ('undertone', 0.46342623233795166),\n",
              " ('attitude', 0.45898014307022095),\n",
              " ('tonality', 0.45895370841026306),\n",
              " ('conversational_tone', 0.4576195180416107)]"
            ]
          },
          "metadata": {},
          "execution_count": 42
        }
      ]
    },
    {
      "cell_type": "code",
      "metadata": {
        "id": "9IWA5MuCd9se"
      },
      "source": [
        "# é possível perceber a diferença de contexto quando utilizando as palavras \"body\" e \"tone\".\n",
        "# no contexto dos instrumentos musicais, \"body\" está relacionada ao corpo do instrumento, no contexto geral, está mais relacionada ao corpo humano, cadáveres, etc...\n",
        "# no contexto dos instrumentos musicais, \"tone\" está relacionada ao tom musical (som, volume, harmonia), no contexo geral, está mais relacionada a humor, atitude, etc..."
      ],
      "execution_count": null,
      "outputs": []
    }
  ]
}